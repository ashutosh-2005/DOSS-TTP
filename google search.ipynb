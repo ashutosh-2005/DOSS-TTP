{
 "cells": [
  {
   "cell_type": "code",
   "execution_count": 2,
   "id": "6c21af20",
   "metadata": {},
   "outputs": [
    {
     "name": "stdout",
     "output_type": "stream",
     "text": [
      "type what you want to search:linux\n",
      "yourlinks are here:  https://www.linux.org/\n",
      "yourlinks are here:  https://en.wikipedia.org/wiki/Linux\n",
      "yourlinks are here:  https://en.wikipedia.org/wiki/Linux#History\n",
      "yourlinks are here:  https://en.wikipedia.org/wiki/Linux#Design\n",
      "yourlinks are here:  https://en.wikipedia.org/wiki/Linux#Development\n",
      "yourlinks are here:  https://en.wikipedia.org/wiki/Linux#Hardware_support\n",
      "yourlinks are here:  https://www.linux.com/what-is-linux/\n",
      "yourlinks are here:  https://www.linuxfoundation.org/\n",
      "yourlinks are here:  https://opensource.com/resources/linux\n",
      "yourlinks are here:  https://www.linux.com/\n"
     ]
    }
   ],
   "source": [
    "try:\n",
    "    from googlesearch import search\n",
    "except Importerror:\n",
    "    print(\"NO MODULE NAMED 'GOOGLE' FOUND \")\n",
    "query=input(\"type what you want to search:\") \n",
    "for j in search(query,tld=\"co.in\",num =10,stop=10,pause=2):\n",
    "    print(\"yourlinks are here: \",j)"
   ]
  },
  {
   "cell_type": "code",
   "execution_count": null,
   "id": "88193913",
   "metadata": {},
   "outputs": [],
   "source": []
  },
  {
   "cell_type": "code",
   "execution_count": null,
   "id": "ab02dde5",
   "metadata": {},
   "outputs": [],
   "source": []
  }
 ],
 "metadata": {
  "kernelspec": {
   "display_name": "Python 3 (ipykernel)",
   "language": "python",
   "name": "python3"
  },
  "language_info": {
   "codemirror_mode": {
    "name": "ipython",
    "version": 3
   },
   "file_extension": ".py",
   "mimetype": "text/x-python",
   "name": "python",
   "nbconvert_exporter": "python",
   "pygments_lexer": "ipython3",
   "version": "3.11.5"
  }
 },
 "nbformat": 4,
 "nbformat_minor": 5
}
